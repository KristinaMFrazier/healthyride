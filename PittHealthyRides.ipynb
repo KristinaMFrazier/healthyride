{
 "cells": [
  {
   "cell_type": "markdown",
   "metadata": {},
   "source": [
    "# Analyzing Bicycle Trip Data of Pittsburgh's Healthy Ride Program\n",
    "This notebook analyzes bikeshare trip data for Pittsburgh's local bikeshare program, Healthy Ride. This analysis is motivated by a hypothetical business intelligence goal for the Healthy Ride organization to learn more about bicycle and station utilization in order to focus maintenance efforts on the most heavily used assets. This notebook seeks to answer questions related to station and bike utilization descriptive statistics, infers relationships between trip duration and user type and day of week variables, and attempts to model trip duration based on these variables.\n",
    "    \n",
    "    \n",
    "### Table of Contents\n",
    "\n",
    "* [Gather and Assess](#chapter1)\n",
    "* [Clean](#chapter2)\n",
    "* [Analyze, Visualize, and Model](#chapter3)"
   ]
  },
  {
   "cell_type": "markdown",
   "metadata": {},
   "source": [
    "\n",
    "## 1. Gather and Assess <a class=\"anchor\" id=\"chapter1\"></a>\n",
    "Bicyle trip data for Pittsburgh's Healthy Ride program was collected by the Western Pennsylvania's Regional Data Center, and can be accessed [here](https://data.wprdc.org/dataset/healthyride-trip-data). The specific dataset used for this analysis is the \"Healthy Ride Rentals - 2020 Q3\" dataset.\n",
    "\n",
    "\n",
    "#### Load modules and dataset"
   ]
  },
  {
   "cell_type": "code",
   "execution_count": 1,
   "metadata": {},
   "outputs": [],
   "source": [
    "import pandas as pd\n",
    "import numpy as np\n",
    "import matplotlib.pyplot as plt\n",
    "%matplotlib inline\n",
    "import seaborn as sns\n",
    "import math\n",
    "\n",
    "from sklearn.linear_model import LinearRegression\n",
    "from sklearn.model_selection import train_test_split\n",
    "from sklearn.metrics import r2_score, mean_squared_error"
   ]
  },
  {
   "cell_type": "markdown",
   "metadata": {},
   "source": [
    "#### Assess"
   ]
  },
  {
   "cell_type": "code",
   "execution_count": 2,
   "metadata": {},
   "outputs": [
    {
     "name": "stdout",
     "output_type": "stream",
     "text": [
      "DATA HEAD \n",
      "\n",
      "    Trip id       Starttime        Stoptime  Bikeid  Tripduration  \\\n",
      "0  98883652  7/1/2020 22:01  7/1/2020 22:22   70207          1283   \n",
      "1  98978499  7/2/2020 19:37  7/3/2020 13:36   70207         64751   \n",
      "2  99138944  7/4/2020 12:05  7/4/2020 13:29   70097          5046   \n",
      "3  99159710  7/4/2020 14:41  7/4/2020 14:46   70097           326   \n",
      "4  99165564  7/4/2020 15:35  7/4/2020 15:53   70487          1084   \n",
      "\n",
      "   From station id            From station name  To station id  \\\n",
      "0           1048.0        S 18th St & Sidney St         1048.0   \n",
      "1           1048.0        S 18th St & Sidney St         1072.0   \n",
      "2           1074.0  South Side Trail & S 4th St         1074.0   \n",
      "3           1074.0  South Side Trail & S 4th St         1072.0   \n",
      "4          49611.0        24th St & Smallman St        49611.0   \n",
      "\n",
      "               To station name    Usertype  \n",
      "0        S 18th St & Sidney St    Customer  \n",
      "1                   Glasshouse    Customer  \n",
      "2  South Side Trail & S 4th St    Customer  \n",
      "3                   Glasshouse  Subscriber  \n",
      "4        24th St & Smallman St    Customer  \n",
      "\n",
      "\n",
      " DATA COLUMNS \n",
      "\n",
      "\n",
      "Index(['Trip id', 'Starttime', 'Stoptime', 'Bikeid', 'Tripduration',\n",
      "       'From station id', 'From station name', 'To station id',\n",
      "       'To station name', 'Usertype'],\n",
      "      dtype='object')\n",
      "\n",
      "\n",
      " DATA INFO \n",
      "\n",
      "\n",
      "<class 'pandas.core.frame.DataFrame'>\n",
      "RangeIndex: 43616 entries, 0 to 43615\n",
      "Data columns (total 10 columns):\n",
      " #   Column             Non-Null Count  Dtype  \n",
      "---  ------             --------------  -----  \n",
      " 0   Trip id            43616 non-null  int64  \n",
      " 1   Starttime          43616 non-null  object \n",
      " 2   Stoptime           43616 non-null  object \n",
      " 3   Bikeid             43616 non-null  int64  \n",
      " 4   Tripduration       43616 non-null  int64  \n",
      " 5   From station id    40902 non-null  float64\n",
      " 6   From station name  43616 non-null  object \n",
      " 7   To station id      40552 non-null  float64\n",
      " 8   To station name    43615 non-null  object \n",
      " 9   Usertype           43608 non-null  object \n",
      "dtypes: float64(2), int64(3), object(5)\n",
      "memory usage: 3.3+ MB\n",
      "None\n"
     ]
    }
   ],
   "source": [
    "df = pd.read_csv('data/healthy-ride-rentals-q3-2020.csv')\n",
    "print('DATA HEAD \\n')\n",
    "print(df.head())\n",
    "print('\\n\\n DATA COLUMNS \\n\\n')\n",
    "print(df.columns)\n",
    "print('\\n\\n DATA INFO \\n\\n')\n",
    "print(df.info())"
   ]
  },
  {
   "cell_type": "code",
   "execution_count": 3,
   "metadata": {},
   "outputs": [
    {
     "name": "stdout",
     "output_type": "stream",
     "text": [
      "DATA HEAD \n",
      "\n",
      "   Station #                               Station Name  # of Racks  \\\n",
      "0       1000                   Liberty Ave & Stanwix St          16   \n",
      "1       1001                 Forbes Ave & Market Square          19   \n",
      "2       1002                        Third Ave & Wood St          15   \n",
      "3       1003  First Ave & Smithfield St (Art Institute)          15   \n",
      "4       1004               First Ave & B St (T Station)          15   \n",
      "\n",
      "    Latitude  Longitude  \n",
      "0  40.441326 -80.004679  \n",
      "1  40.440877 -80.003080  \n",
      "2  40.439030 -80.001860  \n",
      "3  40.437200 -80.000375  \n",
      "4  40.435887 -79.997102  \n",
      "\n",
      "\n",
      " DATA COLUMNS \n",
      "\n",
      "\n",
      "Index(['Station #', 'Station Name', '# of Racks', 'Latitude', 'Longitude'], dtype='object')\n",
      "\n",
      "\n",
      " DATA INFO \n",
      "\n",
      "\n",
      "<class 'pandas.core.frame.DataFrame'>\n",
      "RangeIndex: 100 entries, 0 to 99\n",
      "Data columns (total 5 columns):\n",
      " #   Column        Non-Null Count  Dtype  \n",
      "---  ------        --------------  -----  \n",
      " 0   Station #     100 non-null    int64  \n",
      " 1   Station Name  100 non-null    object \n",
      " 2   # of Racks    100 non-null    int64  \n",
      " 3   Latitude      100 non-null    float64\n",
      " 4   Longitude     100 non-null    float64\n",
      "dtypes: float64(2), int64(2), object(1)\n",
      "memory usage: 4.0+ KB\n",
      "None\n"
     ]
    }
   ],
   "source": [
    "docks = pd.read_csv('data/healthy-ride-station-locations-2020-q3.csv')\n",
    "\n",
    "print('DATA HEAD \\n')\n",
    "print(docks.head())\n",
    "print('\\n\\n DATA COLUMNS \\n\\n')\n",
    "print(docks.columns)\n",
    "print('\\n\\n DATA INFO \\n\\n')\n",
    "print(docks.info())"
   ]
  },
  {
   "cell_type": "markdown",
   "metadata": {},
   "source": [
    "- **Convert times to datetime format**"
   ]
  },
  {
   "cell_type": "code",
   "execution_count": 4,
   "metadata": {},
   "outputs": [
    {
     "data": {
      "text/plain": [
       "Trip id                 0\n",
       "Starttime               0\n",
       "Stoptime                0\n",
       "Bikeid                  0\n",
       "Tripduration            0\n",
       "From station id      2714\n",
       "From station name       0\n",
       "To station id        3064\n",
       "To station name         1\n",
       "Usertype                8\n",
       "dtype: int64"
      ]
     },
     "execution_count": 4,
     "metadata": {},
     "output_type": "execute_result"
    }
   ],
   "source": [
    "np.sum(df.isnull())"
   ]
  },
  {
   "cell_type": "code",
   "execution_count": 5,
   "metadata": {},
   "outputs": [
    {
     "data": {
      "text/plain": [
       "Liberty Ave & Stanwix St                    2836\n",
       "North Shore Trail & Fort Duquesne Bridge    2715\n",
       "S 27th St & Sidney St. (Southside Works)    1451\n",
       "Hot Metal St & Tunnel Blvd                  1423\n",
       "Forbes Ave & Market Square                  1106\n",
       "                                            ... \n",
       "E Carson St. and S 22nd Street                 1\n",
       "recording_101135135                            1\n",
       "BIKE 70366                                     1\n",
       "BIKE 70677                                     1\n",
       "BIKE 70137                                     1\n",
       "Name: From station name, Length: 574, dtype: int64"
      ]
     },
     "execution_count": 5,
     "metadata": {},
     "output_type": "execute_result"
    }
   ],
   "source": [
    "df['From station name'].value_counts()"
   ]
  },
  {
   "cell_type": "code",
   "execution_count": 6,
   "metadata": {},
   "outputs": [
    {
     "data": {
      "text/plain": [
       "Liberty Ave & Stanwix St                    3057\n",
       "North Shore Trail & Fort Duquesne Bridge    2798\n",
       "S 27th St & Sidney St. (Southside Works)    1534\n",
       "Hot Metal St & Tunnel Blvd                  1514\n",
       "Isabella St & Federal St (PNC Park)         1137\n",
       "                                            ... \n",
       "10th & Clinton                                 1\n",
       "BIKE 70676                                     1\n",
       "919 Fulton St                                  1\n",
       "BIKE 70659                                     1\n",
       "recording_101636239                            1\n",
       "Name: To station name, Length: 603, dtype: int64"
      ]
     },
     "execution_count": 6,
     "metadata": {},
     "output_type": "execute_result"
    }
   ],
   "source": [
    "df['To station name'].value_counts()"
   ]
  },
  {
   "cell_type": "markdown",
   "metadata": {},
   "source": [
    "- **Some stations are not locations. It could be that these non-locations lack a station id**"
   ]
  },
  {
   "cell_type": "code",
   "execution_count": 7,
   "metadata": {},
   "outputs": [
    {
     "data": {
      "text/html": [
       "<div>\n",
       "<style scoped>\n",
       "    .dataframe tbody tr th:only-of-type {\n",
       "        vertical-align: middle;\n",
       "    }\n",
       "\n",
       "    .dataframe tbody tr th {\n",
       "        vertical-align: top;\n",
       "    }\n",
       "\n",
       "    .dataframe thead th {\n",
       "        text-align: right;\n",
       "    }\n",
       "</style>\n",
       "<table border=\"1\" class=\"dataframe\">\n",
       "  <thead>\n",
       "    <tr style=\"text-align: right;\">\n",
       "      <th></th>\n",
       "      <th>Trip id</th>\n",
       "      <th>Bikeid</th>\n",
       "      <th>Tripduration</th>\n",
       "      <th>From station id</th>\n",
       "      <th>To station id</th>\n",
       "    </tr>\n",
       "  </thead>\n",
       "  <tbody>\n",
       "    <tr>\n",
       "      <th>count</th>\n",
       "      <td>4.361600e+04</td>\n",
       "      <td>43616.000000</td>\n",
       "      <td>43616.000000</td>\n",
       "      <td>40902.000000</td>\n",
       "      <td>40552.000000</td>\n",
       "    </tr>\n",
       "    <tr>\n",
       "      <th>mean</th>\n",
       "      <td>1.031148e+08</td>\n",
       "      <td>70405.281686</td>\n",
       "      <td>5746.463225</td>\n",
       "      <td>8831.596450</td>\n",
       "      <td>8312.687734</td>\n",
       "    </tr>\n",
       "    <tr>\n",
       "      <th>std</th>\n",
       "      <td>2.378747e+06</td>\n",
       "      <td>209.728651</td>\n",
       "      <td>14987.859026</td>\n",
       "      <td>17945.458291</td>\n",
       "      <td>17372.548985</td>\n",
       "    </tr>\n",
       "    <tr>\n",
       "      <th>min</th>\n",
       "      <td>9.878238e+07</td>\n",
       "      <td>70004.000000</td>\n",
       "      <td>60.000000</td>\n",
       "      <td>1000.000000</td>\n",
       "      <td>1000.000000</td>\n",
       "    </tr>\n",
       "    <tr>\n",
       "      <th>25%</th>\n",
       "      <td>1.011272e+08</td>\n",
       "      <td>70217.000000</td>\n",
       "      <td>751.000000</td>\n",
       "      <td>1013.000000</td>\n",
       "      <td>1013.000000</td>\n",
       "    </tr>\n",
       "    <tr>\n",
       "      <th>50%</th>\n",
       "      <td>1.031877e+08</td>\n",
       "      <td>70446.000000</td>\n",
       "      <td>1851.000000</td>\n",
       "      <td>1041.000000</td>\n",
       "      <td>1040.000000</td>\n",
       "    </tr>\n",
       "    <tr>\n",
       "      <th>75%</th>\n",
       "      <td>1.050575e+08</td>\n",
       "      <td>70586.000000</td>\n",
       "      <td>4222.000000</td>\n",
       "      <td>1084.000000</td>\n",
       "      <td>1084.000000</td>\n",
       "    </tr>\n",
       "    <tr>\n",
       "      <th>max</th>\n",
       "      <td>1.072691e+08</td>\n",
       "      <td>71165.000000</td>\n",
       "      <td>172507.000000</td>\n",
       "      <td>88888.000000</td>\n",
       "      <td>88888.000000</td>\n",
       "    </tr>\n",
       "  </tbody>\n",
       "</table>\n",
       "</div>"
      ],
      "text/plain": [
       "            Trip id        Bikeid   Tripduration  From station id  \\\n",
       "count  4.361600e+04  43616.000000   43616.000000     40902.000000   \n",
       "mean   1.031148e+08  70405.281686    5746.463225      8831.596450   \n",
       "std    2.378747e+06    209.728651   14987.859026     17945.458291   \n",
       "min    9.878238e+07  70004.000000      60.000000      1000.000000   \n",
       "25%    1.011272e+08  70217.000000     751.000000      1013.000000   \n",
       "50%    1.031877e+08  70446.000000    1851.000000      1041.000000   \n",
       "75%    1.050575e+08  70586.000000    4222.000000      1084.000000   \n",
       "max    1.072691e+08  71165.000000  172507.000000     88888.000000   \n",
       "\n",
       "       To station id  \n",
       "count   40552.000000  \n",
       "mean     8312.687734  \n",
       "std     17372.548985  \n",
       "min      1000.000000  \n",
       "25%      1013.000000  \n",
       "50%      1040.000000  \n",
       "75%      1084.000000  \n",
       "max     88888.000000  "
      ]
     },
     "execution_count": 7,
     "metadata": {},
     "output_type": "execute_result"
    }
   ],
   "source": [
    "df.describe()"
   ]
  },
  {
   "cell_type": "markdown",
   "metadata": {},
   "source": [
    "- **Confirm Tripduration units - and confirm that trip durations are accurate**"
   ]
  },
  {
   "cell_type": "code",
   "execution_count": 8,
   "metadata": {},
   "outputs": [
    {
     "data": {
      "text/plain": [
       "Customer      29416\n",
       "Subscriber    14192\n",
       "Name: Usertype, dtype: int64"
      ]
     },
     "execution_count": 8,
     "metadata": {},
     "output_type": "execute_result"
    }
   ],
   "source": [
    "df.Usertype.value_counts()"
   ]
  },
  {
   "cell_type": "markdown",
   "metadata": {},
   "source": [
    "- **Need to create new features to classify trip types and day of the week**"
   ]
  },
  {
   "cell_type": "markdown",
   "metadata": {},
   "source": [
    "## 2. Clean <a class=\"anchor\" id=\"chapter2\"></a>\n",
    "\n",
    "Summary of cleaning steps:\n",
    " - A. Convert times to datetime format\n",
    " - B. Some stations are not locations. It could be that these non-locations lack a station id\n",
    " - C. Confirm Tripduration units - and confirm that trip durations are accurate\n",
    " - D. Need to create new features to classify trip types and day of the week"
   ]
  },
  {
   "cell_type": "markdown",
   "metadata": {},
   "source": [
    "#### A. Convert times to datetime format"
   ]
  },
  {
   "cell_type": "code",
   "execution_count": 9,
   "metadata": {},
   "outputs": [],
   "source": [
    "df['Starttime'] = pd.to_datetime(df['Starttime'])\n",
    "df['Stoptime'] = pd.to_datetime(df['Stoptime'])"
   ]
  },
  {
   "cell_type": "markdown",
   "metadata": {},
   "source": [
    "#### B. Some stations are not locations. It could be that these non-locations lack a station id"
   ]
  },
  {
   "cell_type": "code",
   "execution_count": 10,
   "metadata": {},
   "outputs": [
    {
     "data": {
      "text/plain": [
       "Missing                              117\n",
       "BIKE 70141                            31\n",
       "BIKE 70678                            30\n",
       "BIKE 70612                            24\n",
       "BIKE 70540                            23\n",
       "                                    ... \n",
       "recording_101135135                    1\n",
       "BIKE 70077                             1\n",
       "BIKE 70154                             1\n",
       "Hoboken - Washington St & 14th St      1\n",
       "BIKE 70451                             1\n",
       "Name: From station name, Length: 433, dtype: int64"
      ]
     },
     "execution_count": 10,
     "metadata": {},
     "output_type": "execute_result"
    }
   ],
   "source": [
    "# County of records by station name where the station ID is blank\n",
    "df[df['From station id'].isnull()]['From station name'].value_counts()"
   ]
  },
  {
   "cell_type": "markdown",
   "metadata": {},
   "source": [
    "Having personally used a Healthy Ride rental, I just happen to know that it's possible to end a rental of a bicyle in any location - it does not have to be an actual station. So, I am assuming that trips with these non-standard locations are indeed valid trips. But, I will add a column that identifies these trips as either \"Station to Station\" or \"Other\" to exclude the \"Other\" trips from any analysis where it is not relevant."
   ]
  },
  {
   "cell_type": "code",
   "execution_count": 11,
   "metadata": {},
   "outputs": [
    {
     "data": {
      "text/html": [
       "<div>\n",
       "<style scoped>\n",
       "    .dataframe tbody tr th:only-of-type {\n",
       "        vertical-align: middle;\n",
       "    }\n",
       "\n",
       "    .dataframe tbody tr th {\n",
       "        vertical-align: top;\n",
       "    }\n",
       "\n",
       "    .dataframe thead th {\n",
       "        text-align: right;\n",
       "    }\n",
       "</style>\n",
       "<table border=\"1\" class=\"dataframe\">\n",
       "  <thead>\n",
       "    <tr style=\"text-align: right;\">\n",
       "      <th></th>\n",
       "      <th>Trip id</th>\n",
       "      <th>Starttime</th>\n",
       "      <th>Stoptime</th>\n",
       "      <th>Bikeid</th>\n",
       "      <th>Tripduration</th>\n",
       "      <th>From station id</th>\n",
       "      <th>From station name</th>\n",
       "      <th>To station id</th>\n",
       "      <th>To station name</th>\n",
       "      <th>Usertype</th>\n",
       "      <th>trip_type</th>\n",
       "    </tr>\n",
       "  </thead>\n",
       "  <tbody>\n",
       "    <tr>\n",
       "      <th>0</th>\n",
       "      <td>98883652</td>\n",
       "      <td>2020-07-01 22:01:00</td>\n",
       "      <td>2020-07-01 22:22:00</td>\n",
       "      <td>70207</td>\n",
       "      <td>1283</td>\n",
       "      <td>1048.0</td>\n",
       "      <td>S 18th St &amp; Sidney St</td>\n",
       "      <td>1048.0</td>\n",
       "      <td>S 18th St &amp; Sidney St</td>\n",
       "      <td>Customer</td>\n",
       "      <td>Station to Station</td>\n",
       "    </tr>\n",
       "    <tr>\n",
       "      <th>1</th>\n",
       "      <td>98978499</td>\n",
       "      <td>2020-07-02 19:37:00</td>\n",
       "      <td>2020-07-03 13:36:00</td>\n",
       "      <td>70207</td>\n",
       "      <td>64751</td>\n",
       "      <td>1048.0</td>\n",
       "      <td>S 18th St &amp; Sidney St</td>\n",
       "      <td>1072.0</td>\n",
       "      <td>Glasshouse</td>\n",
       "      <td>Customer</td>\n",
       "      <td>Station to Station</td>\n",
       "    </tr>\n",
       "    <tr>\n",
       "      <th>2</th>\n",
       "      <td>99138944</td>\n",
       "      <td>2020-07-04 12:05:00</td>\n",
       "      <td>2020-07-04 13:29:00</td>\n",
       "      <td>70097</td>\n",
       "      <td>5046</td>\n",
       "      <td>1074.0</td>\n",
       "      <td>South Side Trail &amp; S 4th St</td>\n",
       "      <td>1074.0</td>\n",
       "      <td>South Side Trail &amp; S 4th St</td>\n",
       "      <td>Customer</td>\n",
       "      <td>Station to Station</td>\n",
       "    </tr>\n",
       "    <tr>\n",
       "      <th>3</th>\n",
       "      <td>99159710</td>\n",
       "      <td>2020-07-04 14:41:00</td>\n",
       "      <td>2020-07-04 14:46:00</td>\n",
       "      <td>70097</td>\n",
       "      <td>326</td>\n",
       "      <td>1074.0</td>\n",
       "      <td>South Side Trail &amp; S 4th St</td>\n",
       "      <td>1072.0</td>\n",
       "      <td>Glasshouse</td>\n",
       "      <td>Subscriber</td>\n",
       "      <td>Station to Station</td>\n",
       "    </tr>\n",
       "    <tr>\n",
       "      <th>4</th>\n",
       "      <td>99165564</td>\n",
       "      <td>2020-07-04 15:35:00</td>\n",
       "      <td>2020-07-04 15:53:00</td>\n",
       "      <td>70487</td>\n",
       "      <td>1084</td>\n",
       "      <td>49611.0</td>\n",
       "      <td>24th St &amp; Smallman St</td>\n",
       "      <td>49611.0</td>\n",
       "      <td>24th St &amp; Smallman St</td>\n",
       "      <td>Customer</td>\n",
       "      <td>Station to Station</td>\n",
       "    </tr>\n",
       "  </tbody>\n",
       "</table>\n",
       "</div>"
      ],
      "text/plain": [
       "    Trip id           Starttime            Stoptime  Bikeid  Tripduration  \\\n",
       "0  98883652 2020-07-01 22:01:00 2020-07-01 22:22:00   70207          1283   \n",
       "1  98978499 2020-07-02 19:37:00 2020-07-03 13:36:00   70207         64751   \n",
       "2  99138944 2020-07-04 12:05:00 2020-07-04 13:29:00   70097          5046   \n",
       "3  99159710 2020-07-04 14:41:00 2020-07-04 14:46:00   70097           326   \n",
       "4  99165564 2020-07-04 15:35:00 2020-07-04 15:53:00   70487          1084   \n",
       "\n",
       "   From station id            From station name  To station id  \\\n",
       "0           1048.0        S 18th St & Sidney St         1048.0   \n",
       "1           1048.0        S 18th St & Sidney St         1072.0   \n",
       "2           1074.0  South Side Trail & S 4th St         1074.0   \n",
       "3           1074.0  South Side Trail & S 4th St         1072.0   \n",
       "4          49611.0        24th St & Smallman St        49611.0   \n",
       "\n",
       "               To station name    Usertype           trip_type  \n",
       "0        S 18th St & Sidney St    Customer  Station to Station  \n",
       "1                   Glasshouse    Customer  Station to Station  \n",
       "2  South Side Trail & S 4th St    Customer  Station to Station  \n",
       "3                   Glasshouse  Subscriber  Station to Station  \n",
       "4        24th St & Smallman St    Customer  Station to Station  "
      ]
     },
     "execution_count": 11,
     "metadata": {},
     "output_type": "execute_result"
    }
   ],
   "source": [
    "# Classify strips as being either from station to station or other\n",
    "trip_type = []\n",
    "\n",
    "for i in range(len(df)):\n",
    "    if (math.isnan(df['From station id'][i]) == True) or (math.isnan(df['To station id'][i]) == True):\n",
    "        trip_type.append('Other')\n",
    "    else:\n",
    "        trip_type.append('Station to Station')\n",
    "\n",
    "df['trip_type'] = trip_type\n",
    "\n",
    "df.head()"
   ]
  },
  {
   "cell_type": "markdown",
   "metadata": {},
   "source": [
    "#### C. Confirm Tripduration units - and confirm that trip durations are accurate"
   ]
  },
  {
   "cell_type": "code",
   "execution_count": 12,
   "metadata": {},
   "outputs": [
    {
     "data": {
      "text/plain": [
       "0       0 days 00:21:00\n",
       "1       0 days 17:59:00\n",
       "2       0 days 01:24:00\n",
       "3       0 days 00:05:00\n",
       "4       0 days 00:18:00\n",
       "              ...      \n",
       "43611   0 days 00:08:00\n",
       "43612   0 days 00:09:00\n",
       "43613   0 days 00:05:00\n",
       "43614   0 days 00:13:00\n",
       "43615   0 days 00:05:00\n",
       "Length: 43616, dtype: timedelta64[ns]"
      ]
     },
     "execution_count": 12,
     "metadata": {},
     "output_type": "execute_result"
    }
   ],
   "source": [
    "# Duration calculation\n",
    "df.Stoptime - df.Starttime"
   ]
  },
  {
   "cell_type": "markdown",
   "metadata": {},
   "source": [
    "The Tripduration units are in seconds."
   ]
  },
  {
   "cell_type": "code",
   "execution_count": 13,
   "metadata": {},
   "outputs": [
    {
     "data": {
      "text/html": [
       "<div>\n",
       "<style scoped>\n",
       "    .dataframe tbody tr th:only-of-type {\n",
       "        vertical-align: middle;\n",
       "    }\n",
       "\n",
       "    .dataframe tbody tr th {\n",
       "        vertical-align: top;\n",
       "    }\n",
       "\n",
       "    .dataframe thead th {\n",
       "        text-align: right;\n",
       "    }\n",
       "</style>\n",
       "<table border=\"1\" class=\"dataframe\">\n",
       "  <thead>\n",
       "    <tr style=\"text-align: right;\">\n",
       "      <th></th>\n",
       "      <th>Trip id</th>\n",
       "      <th>Starttime</th>\n",
       "      <th>Stoptime</th>\n",
       "      <th>Bikeid</th>\n",
       "      <th>TripSeconds</th>\n",
       "      <th>From station id</th>\n",
       "      <th>From station name</th>\n",
       "      <th>To station id</th>\n",
       "      <th>To station name</th>\n",
       "      <th>Usertype</th>\n",
       "      <th>trip_type</th>\n",
       "    </tr>\n",
       "  </thead>\n",
       "  <tbody>\n",
       "    <tr>\n",
       "      <th>0</th>\n",
       "      <td>98883652</td>\n",
       "      <td>2020-07-01 22:01:00</td>\n",
       "      <td>2020-07-01 22:22:00</td>\n",
       "      <td>70207</td>\n",
       "      <td>1283</td>\n",
       "      <td>1048.0</td>\n",
       "      <td>S 18th St &amp; Sidney St</td>\n",
       "      <td>1048.0</td>\n",
       "      <td>S 18th St &amp; Sidney St</td>\n",
       "      <td>Customer</td>\n",
       "      <td>Station to Station</td>\n",
       "    </tr>\n",
       "    <tr>\n",
       "      <th>1</th>\n",
       "      <td>98978499</td>\n",
       "      <td>2020-07-02 19:37:00</td>\n",
       "      <td>2020-07-03 13:36:00</td>\n",
       "      <td>70207</td>\n",
       "      <td>64751</td>\n",
       "      <td>1048.0</td>\n",
       "      <td>S 18th St &amp; Sidney St</td>\n",
       "      <td>1072.0</td>\n",
       "      <td>Glasshouse</td>\n",
       "      <td>Customer</td>\n",
       "      <td>Station to Station</td>\n",
       "    </tr>\n",
       "    <tr>\n",
       "      <th>2</th>\n",
       "      <td>99138944</td>\n",
       "      <td>2020-07-04 12:05:00</td>\n",
       "      <td>2020-07-04 13:29:00</td>\n",
       "      <td>70097</td>\n",
       "      <td>5046</td>\n",
       "      <td>1074.0</td>\n",
       "      <td>South Side Trail &amp; S 4th St</td>\n",
       "      <td>1074.0</td>\n",
       "      <td>South Side Trail &amp; S 4th St</td>\n",
       "      <td>Customer</td>\n",
       "      <td>Station to Station</td>\n",
       "    </tr>\n",
       "    <tr>\n",
       "      <th>3</th>\n",
       "      <td>99159710</td>\n",
       "      <td>2020-07-04 14:41:00</td>\n",
       "      <td>2020-07-04 14:46:00</td>\n",
       "      <td>70097</td>\n",
       "      <td>326</td>\n",
       "      <td>1074.0</td>\n",
       "      <td>South Side Trail &amp; S 4th St</td>\n",
       "      <td>1072.0</td>\n",
       "      <td>Glasshouse</td>\n",
       "      <td>Subscriber</td>\n",
       "      <td>Station to Station</td>\n",
       "    </tr>\n",
       "    <tr>\n",
       "      <th>4</th>\n",
       "      <td>99165564</td>\n",
       "      <td>2020-07-04 15:35:00</td>\n",
       "      <td>2020-07-04 15:53:00</td>\n",
       "      <td>70487</td>\n",
       "      <td>1084</td>\n",
       "      <td>49611.0</td>\n",
       "      <td>24th St &amp; Smallman St</td>\n",
       "      <td>49611.0</td>\n",
       "      <td>24th St &amp; Smallman St</td>\n",
       "      <td>Customer</td>\n",
       "      <td>Station to Station</td>\n",
       "    </tr>\n",
       "  </tbody>\n",
       "</table>\n",
       "</div>"
      ],
      "text/plain": [
       "    Trip id           Starttime            Stoptime  Bikeid  TripSeconds  \\\n",
       "0  98883652 2020-07-01 22:01:00 2020-07-01 22:22:00   70207         1283   \n",
       "1  98978499 2020-07-02 19:37:00 2020-07-03 13:36:00   70207        64751   \n",
       "2  99138944 2020-07-04 12:05:00 2020-07-04 13:29:00   70097         5046   \n",
       "3  99159710 2020-07-04 14:41:00 2020-07-04 14:46:00   70097          326   \n",
       "4  99165564 2020-07-04 15:35:00 2020-07-04 15:53:00   70487         1084   \n",
       "\n",
       "   From station id            From station name  To station id  \\\n",
       "0           1048.0        S 18th St & Sidney St         1048.0   \n",
       "1           1048.0        S 18th St & Sidney St         1072.0   \n",
       "2           1074.0  South Side Trail & S 4th St         1074.0   \n",
       "3           1074.0  South Side Trail & S 4th St         1072.0   \n",
       "4          49611.0        24th St & Smallman St        49611.0   \n",
       "\n",
       "               To station name    Usertype           trip_type  \n",
       "0        S 18th St & Sidney St    Customer  Station to Station  \n",
       "1                   Glasshouse    Customer  Station to Station  \n",
       "2  South Side Trail & S 4th St    Customer  Station to Station  \n",
       "3                   Glasshouse  Subscriber  Station to Station  \n",
       "4        24th St & Smallman St    Customer  Station to Station  "
      ]
     },
     "execution_count": 13,
     "metadata": {},
     "output_type": "execute_result"
    }
   ],
   "source": [
    "# Rename column for clarity\n",
    "df = df.rename(columns = {'Tripduration':'TripSeconds'})\n",
    "df.head()"
   ]
  },
  {
   "cell_type": "markdown",
   "metadata": {},
   "source": [
    "#### D. Need to create new features to classify trip types and day of the week"
   ]
  },
  {
   "cell_type": "code",
   "execution_count": 14,
   "metadata": {},
   "outputs": [],
   "source": [
    "# Create a day of week column\n",
    "df['day_of_week'] = df.Starttime.dt.dayofweek\n",
    "\n",
    "# Encode integer values as strings\n",
    "day_of_week = {0:'Monday',1:'Tuesday',2:'Wednesday',3:'Thursday',4:'Friday',5:'Saturday',6:'Sunday'}\n",
    "df.day_of_week = df.day_of_week.replace(to_replace=day_of_week)\n",
    "\n",
    "# Create a day type column (weekday or weekend)\n",
    "day_type = {'Monday':'Weekday','Tuesday':'Weekday','Wednesday':'Weekday','Thursday':'Weekday','Friday':'Weekday','Saturday':'Weekend','Sunday':'Weekend'}\n",
    "df['day_type'] = df.day_of_week.replace(to_replace=day_type)\n"
   ]
  },
  {
   "cell_type": "markdown",
   "metadata": {},
   "source": [
    "## 3. Analyze, Visualize, and Model <a class=\"anchor\" id=\"chapter3\"></a>\n",
    "\n",
    "Here is a summary of the questions being asked of this dataset by this analysis:\n",
    "\n",
    "- **Station Utilization:** \n",
    "    - What are the most frequent start and end stations?\n",
    "    - What are the most frequent trip routes?\n",
    "- **Bicycle Utilization:** \n",
    "    - What is the total trip duration of each bike? Are some bikes used more often than others?\n",
    "- **Trip duration trends:**\n",
    "    - Is there a significant difference in trip duration between subscribers and customers?\n",
    "    - Is there a significant difference in trip duration between trips taken during the week and those taken during the weekend?\n",
    "    - Given this dataset, can trip duration be adequately modeled using data on user type, trip type, and whether or not a trip takes place during the week or weekend?\n",
    "    \n",
    "        \n",
    "### Station Utilization: Which start and end stations had the most trips?"
   ]
  },
  {
   "cell_type": "code",
   "execution_count": 15,
   "metadata": {},
   "outputs": [
    {
     "data": {
      "text/plain": [
       "Liberty Ave & Stanwix St                    2646\n",
       "North Shore Trail & Fort Duquesne Bridge    2629\n",
       "Hot Metal St & Tunnel Blvd                  1375\n",
       "S 27th St & Sidney St. (Southside Works)    1375\n",
       "Isabella St & Federal St (PNC Park)         1036\n",
       "Name: From station name, dtype: int64"
      ]
     },
     "execution_count": 15,
     "metadata": {},
     "output_type": "execute_result"
    }
   ],
   "source": [
    "# Most trips orginate from here\n",
    "df_StoS = df.copy()\n",
    "\n",
    "# Filter from station-to-station trips - excluding trips where the trip type involved a dockless start or end point\n",
    "df_StoS = df_StoS[df_StoS.trip_type == 'Station to Station']\n",
    "\n",
    "top_starts = df_StoS['From station name'].value_counts().head(5)\n",
    "top_starts"
   ]
  },
  {
   "cell_type": "code",
   "execution_count": 16,
   "metadata": {},
   "outputs": [
    {
     "data": {
      "text/plain": [
       "''"
      ]
     },
     "execution_count": 16,
     "metadata": {},
     "output_type": "execute_result"
    },
    {
     "data": {
      "image/png": "[encoded data removed]",
      "text/plain": [
       "<Figure size 1080x360 with 1 Axes>"
      ]
     },
     "metadata": {
      "needs_background": "light"
     },
     "output_type": "display_data"
    }
   ],
   "source": [
    "# Filter station-to-station trips dataframe for only top five most popular station starts\n",
    "top_starts_df = df_StoS[df_StoS['From station name'].isin(top_starts.index.to_list())]\n",
    "\n",
    "# Plot\n",
    "plt.figure(figsize = [15,5])\n",
    "sns.countplot(data = top_starts_df, x = 'From station name', color = sns.color_palette()[0], order = top_starts_df['From station name'].value_counts().index)\n",
    "plt.xticks(rotation = 90)\n",
    "plt.ylabel('Count of Trips')\n",
    "plt.xlabel('Station Starts')\n",
    "plt.title('Count of Trips for the Top Five Trip Starts (Stations)')\n",
    ";"
   ]
  },
  {
   "cell_type": "code",
   "execution_count": 17,
   "metadata": {},
   "outputs": [
    {
     "data": {
      "text/plain": [
       "Liberty Ave & Stanwix St                    2906\n",
       "North Shore Trail & Fort Duquesne Bridge    2700\n",
       "S 27th St & Sidney St. (Southside Works)    1466\n",
       "Hot Metal St & Tunnel Blvd                  1463\n",
       "Isabella St & Federal St (PNC Park)         1099\n",
       "Name: To station name, dtype: int64"
      ]
     },
     "execution_count": 17,
     "metadata": {},
     "output_type": "execute_result"
    }
   ],
   "source": [
    "# Most trips end here\n",
    "top_ends = df_StoS['To station name'].value_counts().head(5)\n",
    "top_ends"
   ]
  },
  {
   "cell_type": "code",
   "execution_count": 18,
   "metadata": {},
   "outputs": [
    {
     "data": {
      "text/plain": [
       "''"
      ]
     },
     "execution_count": 18,
     "metadata": {},
     "output_type": "execute_result"
    },
    {
     "data": {
      "image/png": "[encoded data removed]",
      "text/plain": [
       "<Figure size 1080x360 with 1 Axes>"
      ]
     },
     "metadata": {
      "needs_background": "light"
     },
     "output_type": "display_data"
    }
   ],
   "source": [
    "# Filter station-to-station trips dataframe for only top five most popular station ends\n",
    "top_ends_df = df_StoS[df_StoS['To station name'].isin(top_ends.index.to_list())]\n",
    "\n",
    "# Plot\n",
    "plt.figure(figsize = [15,5])\n",
    "sns.countplot(data = top_ends_df, x = 'To station name', color = sns.color_palette()[0], order = top_ends_df['To station name'].value_counts().index)\n",
    "plt.xticks(rotation = 90)\n",
    "plt.ylabel('Count of Trips')\n",
    "plt.xlabel('StationEnds')\n",
    "plt.title('Count of Trips for the Top Five Trip Ends (Stations)')\n",
    ";"
   ]
  },
  {
   "cell_type": "markdown",
   "metadata": {},
   "source": [
    "The five most popular station starts are the same as those of the most popular station ends. All of these locations are located near populous central business districts in Pittsburgh. Therefore, it's also possible that these locations have the most bicycle docks."
   ]
  },
  {
   "cell_type": "code",
   "execution_count": 19,
   "metadata": {},
   "outputs": [
    {
     "data": {
      "text/html": [
       "<div>\n",
       "<style scoped>\n",
       "    .dataframe tbody tr th:only-of-type {\n",
       "        vertical-align: middle;\n",
       "    }\n",
       "\n",
       "    .dataframe tbody tr th {\n",
       "        vertical-align: top;\n",
       "    }\n",
       "\n",
       "    .dataframe thead th {\n",
       "        text-align: right;\n",
       "    }\n",
       "</style>\n",
       "<table border=\"1\" class=\"dataframe\">\n",
       "  <thead>\n",
       "    <tr style=\"text-align: right;\">\n",
       "      <th></th>\n",
       "      <th>Station #</th>\n",
       "      <th>Station Name</th>\n",
       "      <th># of Racks</th>\n",
       "      <th>Latitude</th>\n",
       "      <th>Longitude</th>\n",
       "    </tr>\n",
       "  </thead>\n",
       "  <tbody>\n",
       "    <tr>\n",
       "      <th>12</th>\n",
       "      <td>1012</td>\n",
       "      <td>North Shore Trail &amp; Ft Duquesne Bridge</td>\n",
       "      <td>31</td>\n",
       "      <td>40.445834</td>\n",
       "      <td>-80.008882</td>\n",
       "    </tr>\n",
       "    <tr>\n",
       "      <th>39</th>\n",
       "      <td>1040</td>\n",
       "      <td>O'Hara St and University Place (Soldiers and S...</td>\n",
       "      <td>21</td>\n",
       "      <td>40.445128</td>\n",
       "      <td>-79.957102</td>\n",
       "    </tr>\n",
       "    <tr>\n",
       "      <th>36</th>\n",
       "      <td>1037</td>\n",
       "      <td>Frew St &amp; Schenley Dr</td>\n",
       "      <td>20</td>\n",
       "      <td>40.441032</td>\n",
       "      <td>-79.948042</td>\n",
       "    </tr>\n",
       "    <tr>\n",
       "      <th>48</th>\n",
       "      <td>1049</td>\n",
       "      <td>S 12th St &amp; E Carson St</td>\n",
       "      <td>19</td>\n",
       "      <td>40.428661</td>\n",
       "      <td>-79.986358</td>\n",
       "    </tr>\n",
       "    <tr>\n",
       "      <th>14</th>\n",
       "      <td>1014</td>\n",
       "      <td>Ridge Ave &amp; Brighton Rd (CCAC)</td>\n",
       "      <td>19</td>\n",
       "      <td>40.450595</td>\n",
       "      <td>-80.013204</td>\n",
       "    </tr>\n",
       "    <tr>\n",
       "      <th>29</th>\n",
       "      <td>1029</td>\n",
       "      <td>Alder St &amp; S Higland Ave</td>\n",
       "      <td>19</td>\n",
       "      <td>40.457415</td>\n",
       "      <td>-79.924920</td>\n",
       "    </tr>\n",
       "    <tr>\n",
       "      <th>21</th>\n",
       "      <td>1021</td>\n",
       "      <td>Taylor St &amp; Liberty Ave</td>\n",
       "      <td>19</td>\n",
       "      <td>40.462769</td>\n",
       "      <td>-79.950867</td>\n",
       "    </tr>\n",
       "    <tr>\n",
       "      <th>30</th>\n",
       "      <td>1031</td>\n",
       "      <td>Maryland Ave &amp; Ellsworth Ave</td>\n",
       "      <td>19</td>\n",
       "      <td>40.456280</td>\n",
       "      <td>-79.930962</td>\n",
       "    </tr>\n",
       "    <tr>\n",
       "      <th>32</th>\n",
       "      <td>1033</td>\n",
       "      <td>Ivy St &amp; Walnut St</td>\n",
       "      <td>19</td>\n",
       "      <td>40.451770</td>\n",
       "      <td>-79.932324</td>\n",
       "    </tr>\n",
       "    <tr>\n",
       "      <th>16</th>\n",
       "      <td>1016</td>\n",
       "      <td>17th St &amp; Penn Ave</td>\n",
       "      <td>19</td>\n",
       "      <td>40.449631</td>\n",
       "      <td>-79.985893</td>\n",
       "    </tr>\n",
       "  </tbody>\n",
       "</table>\n",
       "</div>"
      ],
      "text/plain": [
       "    Station #                                       Station Name  # of Racks  \\\n",
       "12       1012             North Shore Trail & Ft Duquesne Bridge          31   \n",
       "39       1040  O'Hara St and University Place (Soldiers and S...          21   \n",
       "36       1037                              Frew St & Schenley Dr          20   \n",
       "48       1049                            S 12th St & E Carson St          19   \n",
       "14       1014                     Ridge Ave & Brighton Rd (CCAC)          19   \n",
       "29       1029                           Alder St & S Higland Ave          19   \n",
       "21       1021                            Taylor St & Liberty Ave          19   \n",
       "30       1031                       Maryland Ave & Ellsworth Ave          19   \n",
       "32       1033                                 Ivy St & Walnut St          19   \n",
       "16       1016                                 17th St & Penn Ave          19   \n",
       "\n",
       "     Latitude  Longitude  \n",
       "12  40.445834 -80.008882  \n",
       "39  40.445128 -79.957102  \n",
       "36  40.441032 -79.948042  \n",
       "48  40.428661 -79.986358  \n",
       "14  40.450595 -80.013204  \n",
       "29  40.457415 -79.924920  \n",
       "21  40.462769 -79.950867  \n",
       "30  40.456280 -79.930962  \n",
       "32  40.451770 -79.932324  \n",
       "16  40.449631 -79.985893  "
      ]
     },
     "execution_count": 19,
     "metadata": {},
     "output_type": "execute_result"
    }
   ],
   "source": [
    "# Filter the stations with the most docks\n",
    "docks.sort_values('# of Racks', ascending = False).head(10)"
   ]
  },
  {
   "cell_type": "markdown",
   "metadata": {},
   "source": [
    "So, we see that the most utilized stations, for both starting and ending a trip, are:\n",
    "\n",
    "- Liberty Ave & Stanwix St       \n",
    "- North Shore Trail & Fort Duquesne Bridge\n",
    "- S 27th St & Sidney St. (Southside Works)\n",
    "- Hot Metal St & Tunnel Blvd\n",
    "- Isabella St & Federal St (PNC Park)\n",
    "\n",
    "But, interestingly enough, these are not all locations with the most bicycle docks. Healthy Ride may want to consider adding most docking stations to the above-listed locations."
   ]
  },
  {
   "cell_type": "markdown",
   "metadata": {},
   "source": [
    "### Station Utilization: What are the most frequent trip routes?"
   ]
  },
  {
   "cell_type": "code",
   "execution_count": 20,
   "metadata": {
    "scrolled": true
   },
   "outputs": [
    {
     "data": {
      "text/plain": [
       "From North Shore Trail & Fort Duquesne Bridge To  North Shore Trail & Fort Duquesne Bridge    1997\n",
       "From Liberty Ave & Stanwix St To  Liberty Ave & Stanwix St                                    1708\n",
       "From Hot Metal St & Tunnel Blvd To  Hot Metal St & Tunnel Blvd                                 959\n",
       "From S 27th St & Sidney St. (Southside Works) To  S 27th St & Sidney St. (Southside Works)     900\n",
       "From Isabella St & Federal St (PNC Park) To  Isabella St & Federal St (PNC Park)               625\n",
       "Name: routes, dtype: int64"
      ]
     },
     "execution_count": 20,
     "metadata": {},
     "output_type": "execute_result"
    }
   ],
   "source": [
    "# These are the most popular trip routes\n",
    "df_StoS['routes'] = 'From ' + df_StoS['From station name'] + ' To  ' + df_StoS['To station name']\n",
    "\n",
    "df_StoS['routes'].value_counts().head(5)"
   ]
  },
  {
   "cell_type": "code",
   "execution_count": 21,
   "metadata": {},
   "outputs": [
    {
     "data": {
      "text/plain": [
       "''"
      ]
     },
     "execution_count": 21,
     "metadata": {},
     "output_type": "execute_result"
    },
    {
     "data": {
      "image/png": "[encoded data removed]",
      "text/plain": [
       "<Figure size 1080x360 with 1 Axes>"
      ]
     },
     "metadata": {
      "needs_background": "light"
     },
     "output_type": "display_data"
    }
   ],
   "source": [
    "# Add new line characters to routes column for ease of labeling x-axis\n",
    "df_StoS['routes'] = 'From\\n' + df_StoS['From station name'] + '\\nTo\\n ' + df_StoS['To station name']\n",
    "\n",
    "# Filter main data table of station to station routes with only the top routes\n",
    "top_routes_df = df_StoS[df_StoS['routes'].isin(df_StoS['routes'].value_counts().head(5).index.to_list())]\n",
    "\n",
    "# Plot the frequency of station to station routes\n",
    "plt.figure(figsize = [15,5])\n",
    "\n",
    "sns.countplot(data = top_routes_df, x = 'routes', order = top_routes_df['routes'].value_counts().index)\n",
    "\n",
    "plt.xticks(rotation = 45)\n",
    "plt.ylabel('Count of Trips')\n",
    "plt.xlabel('Routes')\n",
    "plt.title('Count of Trips for the Top Five Routes')\n",
    ";"
   ]
  },
  {
   "cell_type": "markdown",
   "metadata": {},
   "source": [
    "The top five station to station routes are all routes that are near central business districts, and they are all trips with destinations matching the origin."
   ]
  },
  {
   "cell_type": "code",
   "execution_count": 22,
   "metadata": {},
   "outputs": [
    {
     "data": {
      "text/plain": [
       "''"
      ]
     },
     "execution_count": 22,
     "metadata": {},
     "output_type": "execute_result"
    },
    {
     "data": {
      "image/png": "[encoded data removed]",
      "text/plain": [
       "<Figure size 1080x360 with 1 Axes>"
      ]
     },
     "metadata": {
      "needs_background": "light"
     },
     "output_type": "display_data"
    }
   ],
   "source": [
    "# Plot the frequency of station to station routes\n",
    "plt.figure(figsize = [15,5])\n",
    "\n",
    "sns.countplot(data = top_routes_df, x = 'routes',hue = 'Usertype', order = top_routes_df['routes'].value_counts().index)\n",
    "\n",
    "plt.xticks(rotation = 45)\n",
    "plt.ylabel('Count of Trips')\n",
    "plt.xlabel('Routes')\n",
    "plt.title('Count of Trips for the Top Five Routes by User Type')\n",
    ";"
   ]
  },
  {
   "cell_type": "code",
   "execution_count": 23,
   "metadata": {},
   "outputs": [
    {
     "data": {
      "image/png": "[encoded data removed]",
      "text/plain": [
       "<Figure size 432x288 with 1 Axes>"
      ]
     },
     "metadata": {
      "needs_background": "light"
     },
     "output_type": "display_data"
    }
   ],
   "source": [
    "sns.countplot(data = df, x = 'Usertype')\n",
    "\n",
    "plt.xticks(rotation = 45)\n",
    "plt.ylabel('Count of Trips')\n",
    "plt.xlabel('Routes')\n",
    "plt.title('Count of Trips by User Type');"
   ]
  },
  {
   "cell_type": "markdown",
   "metadata": {},
   "source": [
    "The plot \"Count of Trips for the Top Five Routes by User Type\" adds the usertype variable to see if these trips are predominantly customer or subscriber-based. All of these frequencies are dominated by customers. And, it's important to note that the majority of all trips are made by customers, which is shown the above \"Count of Trips by User Type.\""
   ]
  },
  {
   "cell_type": "markdown",
   "metadata": {},
   "source": [
    "### Bicycle Utilization\n",
    "What is the total trip duration of each bike? Are some bikes used more often than others?"
   ]
  },
  {
   "cell_type": "code",
   "execution_count": 24,
   "metadata": {},
   "outputs": [
    {
     "data": {
      "text/plain": [
       "''"
      ]
     },
     "execution_count": 24,
     "metadata": {},
     "output_type": "execute_result"
    },
    {
     "data": {
      "image/png": "[encoded data removed]",
      "text/plain": [
       "<Figure size 432x288 with 1 Axes>"
      ]
     },
     "metadata": {
      "needs_background": "light"
     },
     "output_type": "display_data"
    }
   ],
   "source": [
    "# Calculate the sum of TripSeconds by Bike\n",
    "bike_duration_sums = df.groupby('Bikeid').sum()['TripSeconds']\n",
    "plt.hist(bike_duration_sums, bins = np.arange(0,1100000,100000))\n",
    "plt.title('Distribution of Total Trip Durations')\n",
    ";"
   ]
  },
  {
   "cell_type": "code",
   "execution_count": 25,
   "metadata": {},
   "outputs": [
    {
     "data": {
      "text/plain": [
       "''"
      ]
     },
     "execution_count": 25,
     "metadata": {},
     "output_type": "execute_result"
    },
    {
     "data": {
      "image/png": "[encoded data removed]",
      "text/plain": [
       "<Figure size 1440x360 with 2 Axes>"
      ]
     },
     "metadata": {
      "needs_background": "light"
     },
     "output_type": "display_data"
    }
   ],
   "source": [
    "# Calculate the mean of TripSeconds by Bike\n",
    "bike_duration_mean = df.groupby('Bikeid').mean()['TripSeconds']\n",
    "\n",
    "plt.figure(figsize=[20,5])\n",
    "\n",
    "plt.subplot(1,2,1)\n",
    "plt.hist(bike_duration_mean, bins = np.arange(0,110000,10000))\n",
    "plt.title('Distribution of Mean Trip Durations')\n",
    "\n",
    "plt.subplot(1,2,2)\n",
    "plt.hist(bike_duration_mean, bins = np.arange(0,26000,1000))\n",
    "plt.xlim(0,25000)\n",
    "plt.title('Distribution of Mean Trip Durations')\n",
    "\n",
    ";"
   ]
  },
  {
   "cell_type": "code",
   "execution_count": 26,
   "metadata": {},
   "outputs": [
    {
     "name": "stdout",
     "output_type": "stream",
     "text": [
      "The median average trip duration by bike is 5674.178571428572.\n",
      "This is 94.56964285714285 minutes.\n"
     ]
    }
   ],
   "source": [
    "print(\"The median average trip duration by bike is {}.\".format(bike_duration_mean.median()))\n",
    "print('This is {} minutes.'.format(bike_duration_mean.median()/60))"
   ]
  },
  {
   "cell_type": "markdown",
   "metadata": {},
   "source": [
    "The distribution of mean trip duration by bicycle is right-skewed, with the median of average trip durations between 5,674 seconds - this is roughly 95 minutes - approximately 1.5 hours."
   ]
  },
  {
   "cell_type": "markdown",
   "metadata": {},
   "source": [
    "### Trip Duration by User Type\n",
    "Is there a significant difference in mean trip duration between subscribers and customers?"
   ]
  },
  {
   "cell_type": "code",
   "execution_count": 27,
   "metadata": {
    "scrolled": true
   },
   "outputs": [
    {
     "name": "stdout",
     "output_type": "stream",
     "text": [
      "7586.272078872634 7984.328559620721\n"
     ]
    },
    {
     "data": {
      "image/png": "[encoded data removed]",
      "text/plain": [
       "<Figure size 432x288 with 1 Axes>"
      ]
     },
     "metadata": {
      "needs_background": "light"
     },
     "output_type": "display_data"
    }
   ],
   "source": [
    "# Bootstrapped sample of Subscriber trip duration\n",
    "boot_10k_sub = []\n",
    "for _ in range(10000):\n",
    "    sample = df.sample(len(df), replace = True)\n",
    "    subscriber_mean_tripduration = sample.groupby('Usertype').mean()['TripSeconds'][0]\n",
    "    boot_10k_sub.append(subscriber_mean_tripduration)\n",
    "\n",
    "print(np.percentile(boot_10k_sub,2.5),np.percentile(boot_10k_sub,97.5))\n",
    "plt.hist(boot_10k_sub);"
   ]
  },
  {
   "cell_type": "code",
   "execution_count": 28,
   "metadata": {
    "scrolled": true
   },
   "outputs": [
    {
     "name": "stdout",
     "output_type": "stream",
     "text": [
      "(1432.0717485080695, 1605.0425806033372)\n"
     ]
    },
    {
     "data": {
      "image/png": "[encoded data removed]",
      "text/plain": [
       "<Figure size 432x288 with 1 Axes>"
      ]
     },
     "metadata": {
      "needs_background": "light"
     },
     "output_type": "display_data"
    }
   ],
   "source": [
    "# Bootstrapped sample of Customer trip duration\n",
    "boot_10k_cus = []\n",
    "for _ in range(10000):\n",
    "    sample = df.sample(len(df), replace = True)\n",
    "    customer_mean_tripduration = sample.groupby('Usertype').mean()['TripSeconds'][1]\n",
    "    boot_10k_cus.append(customer_mean_tripduration)\n",
    "\n",
    "print((np.percentile(boot_10k_cus,2.5),np.percentile(boot_10k_cus,97.5)))\n",
    "plt.hist(boot_10k_cus);"
   ]
  },
  {
   "cell_type": "code",
   "execution_count": 29,
   "metadata": {},
   "outputs": [
    {
     "data": {
      "text/plain": [
       "''"
      ]
     },
     "execution_count": 29,
     "metadata": {},
     "output_type": "execute_result"
    },
    {
     "data": {
      "image/png": "[encoded data removed]",
      "text/plain": [
       "<Figure size 1080x360 with 1 Axes>"
      ]
     },
     "metadata": {
      "needs_background": "light"
     },
     "output_type": "display_data"
    }
   ],
   "source": [
    "plt.figure(figsize = [15,5])\n",
    "sns.distplot(boot_10k_sub, kde=False)\n",
    "sns.distplot(boot_10k_cus, kde=False)\n",
    "plt.legend(['Subscribers','Customers'])\n",
    "plt.title('Distribution of Mean Trip Durations by User Type')\n",
    "plt.ylabel('Count of Trips')\n",
    "plt.xlabel('Mean Trip Duration (Seconds)')\n",
    ";"
   ]
  },
  {
   "cell_type": "markdown",
   "metadata": {},
   "source": [
    "On average customers have a much lower trip mean trip duration than subscribers. From this sample, we can estimate that the mean trip duration of customers is between 1,433 and 1,601 seconds(23.8 and 26.7 minutes). Whereas the mean trip duration of subscribers ins between 7,586 and 7,987 seconds (126.4 and 133.1 minutes )."
   ]
  },
  {
   "cell_type": "markdown",
   "metadata": {},
   "source": [
    "### Trip duration by time of week\n",
    "Is there a significant difference in trip duration between trips taken during the week and those taken during the weekend?"
   ]
  },
  {
   "cell_type": "code",
   "execution_count": 30,
   "metadata": {
    "scrolled": true
   },
   "outputs": [
    {
     "name": "stdout",
     "output_type": "stream",
     "text": [
      "5323.284609470941 5675.893088328715\n"
     ]
    },
    {
     "data": {
      "image/png": "[encoded data removed]",
      "text/plain": [
       "<Figure size 432x288 with 1 Axes>"
      ]
     },
     "metadata": {
      "needs_background": "light"
     },
     "output_type": "display_data"
    }
   ],
   "source": [
    "# Bootstrapped sample of weekday trip duration\n",
    "boot_10k_weekday = []\n",
    "for _ in range(10000):\n",
    "    sample = df.sample(len(df), replace = True)\n",
    "    day_type_mean_tripduration = sample.groupby('day_type').mean()['TripSeconds'][0]\n",
    "    boot_10k_weekday.append(day_type_mean_tripduration)\n",
    "\n",
    "print(np.percentile(boot_10k_weekday,2.5),np.percentile(boot_10k_weekday,97.5))\n",
    "plt.hist(boot_10k_weekday);"
   ]
  },
  {
   "cell_type": "code",
   "execution_count": 31,
   "metadata": {},
   "outputs": [
    {
     "name": "stdout",
     "output_type": "stream",
     "text": [
      "5927.580369357323 6386.480016645296\n"
     ]
    },
    {
     "data": {
      "image/png": "[encoded data removed]",
      "text/plain": [
       "<Figure size 432x288 with 1 Axes>"
      ]
     },
     "metadata": {
      "needs_background": "light"
     },
     "output_type": "display_data"
    }
   ],
   "source": [
    "# Bootstrapped sample of weekend trip duration\n",
    "boot_10k_weekend = []\n",
    "for _ in range(10000):\n",
    "    sample = df.sample(len(df), replace = True)\n",
    "    day_type_mean_tripduration = sample.groupby('day_type').mean()['TripSeconds'][1]\n",
    "    boot_10k_weekend.append(day_type_mean_tripduration)\n",
    "\n",
    "print(np.percentile(boot_10k_weekend,2.5),np.percentile(boot_10k_weekend,97.5))\n",
    "plt.hist(boot_10k_weekend);"
   ]
  },
  {
   "cell_type": "code",
   "execution_count": 32,
   "metadata": {},
   "outputs": [
    {
     "data": {
      "text/plain": [
       "''"
      ]
     },
     "execution_count": 32,
     "metadata": {},
     "output_type": "execute_result"
    },
    {
     "data": {
      "image/png": "[encoded data removed]",
      "text/plain": [
       "<Figure size 1080x360 with 1 Axes>"
      ]
     },
     "metadata": {
      "needs_background": "light"
     },
     "output_type": "display_data"
    }
   ],
   "source": [
    "plt.figure(figsize = [15,5])\n",
    "bins = np.arange(5100,6600,50)\n",
    "sns.distplot(boot_10k_weekday, kde=False, bins = bins)\n",
    "sns.distplot(boot_10k_weekend, kde=False, bins = bins)\n",
    "plt.legend(['Weekday','Weekend'])\n",
    "plt.title('Distribution of Mean Trip Durations by Time of Week')\n",
    "plt.ylabel('Count of Trips')\n",
    "plt.xlabel('Mean Trip Duration (Seconds)')\n",
    ";"
   ]
  },
  {
   "cell_type": "markdown",
   "metadata": {},
   "source": [
    "The non-overlapping sampling distributions of mean trip durations of weekday and weekend trips showing that trips during the weekend tend to be longer."
   ]
  },
  {
   "cell_type": "markdown",
   "metadata": {},
   "source": [
    "### Trip Duration Model\n",
    "Given this dataset, can trip duration be adequately modeled using data on user type, trip type, and whether or not a trip takes place during the week or weekend?"
   ]
  },
  {
   "cell_type": "code",
   "execution_count": 33,
   "metadata": {},
   "outputs": [
    {
     "data": {
      "text/html": [
       "<div>\n",
       "<style scoped>\n",
       "    .dataframe tbody tr th:only-of-type {\n",
       "        vertical-align: middle;\n",
       "    }\n",
       "\n",
       "    .dataframe tbody tr th {\n",
       "        vertical-align: top;\n",
       "    }\n",
       "\n",
       "    .dataframe thead th {\n",
       "        text-align: right;\n",
       "    }\n",
       "</style>\n",
       "<table border=\"1\" class=\"dataframe\">\n",
       "  <thead>\n",
       "    <tr style=\"text-align: right;\">\n",
       "      <th></th>\n",
       "      <th>TripSeconds</th>\n",
       "      <th>Usertype_Subscriber</th>\n",
       "      <th>trip_type_Station to Station</th>\n",
       "      <th>day_type_Weekend</th>\n",
       "    </tr>\n",
       "  </thead>\n",
       "  <tbody>\n",
       "    <tr>\n",
       "      <th>0</th>\n",
       "      <td>1283</td>\n",
       "      <td>0</td>\n",
       "      <td>1</td>\n",
       "      <td>0</td>\n",
       "    </tr>\n",
       "    <tr>\n",
       "      <th>1</th>\n",
       "      <td>64751</td>\n",
       "      <td>0</td>\n",
       "      <td>1</td>\n",
       "      <td>0</td>\n",
       "    </tr>\n",
       "    <tr>\n",
       "      <th>2</th>\n",
       "      <td>5046</td>\n",
       "      <td>0</td>\n",
       "      <td>1</td>\n",
       "      <td>1</td>\n",
       "    </tr>\n",
       "    <tr>\n",
       "      <th>3</th>\n",
       "      <td>326</td>\n",
       "      <td>1</td>\n",
       "      <td>1</td>\n",
       "      <td>1</td>\n",
       "    </tr>\n",
       "    <tr>\n",
       "      <th>4</th>\n",
       "      <td>1084</td>\n",
       "      <td>0</td>\n",
       "      <td>1</td>\n",
       "      <td>1</td>\n",
       "    </tr>\n",
       "  </tbody>\n",
       "</table>\n",
       "</div>"
      ],
      "text/plain": [
       "   TripSeconds  Usertype_Subscriber  trip_type_Station to Station  \\\n",
       "0         1283                    0                             1   \n",
       "1        64751                    0                             1   \n",
       "2         5046                    0                             1   \n",
       "3          326                    1                             1   \n",
       "4         1084                    0                             1   \n",
       "\n",
       "   day_type_Weekend  \n",
       "0                 0  \n",
       "1                 0  \n",
       "2                 1  \n",
       "3                 1  \n",
       "4                 1  "
      ]
     },
     "execution_count": 33,
     "metadata": {},
     "output_type": "execute_result"
    }
   ],
   "source": [
    "trip_model_data = df.drop(columns = ['Trip id', 'Starttime', 'Stoptime', 'Bikeid',\n",
    "       'From station id', 'From station name', 'To station id',\n",
    "       'To station name', 'day_of_week'])\n",
    "\n",
    "#Create a copy of the dataframe\n",
    "cat_df_copy = trip_model_data.copy()\n",
    "#Pull a list of the column names of the categorical variables\n",
    "cat_cols_lst = trip_model_data.drop(columns =['TripSeconds']).columns\n",
    "\n",
    "def create_dummy_df(df, cat_cols, dummy_na):\n",
    "    '''\n",
    "    INPUT:\n",
    "    df - pandas dataframe to search\n",
    "    cat_cols - a list of column names for all categorical variables\n",
    "    dummy_na = \n",
    "    \n",
    "    OUTPUT:\n",
    "    df - a new dataframe with both continuous and categorical variables \n",
    "        as dummy variables, and categorical original variables removed\n",
    "    '''\n",
    "    \n",
    "    for col in  cat_cols:\n",
    "        try:\n",
    "            # for each cat add dummy var, drop original column\n",
    "            df = pd.concat([df.drop(col, axis=1), pd.get_dummies(df[col], prefix=col, prefix_sep='_', drop_first=True, dummy_na=dummy_na)], axis=1)\n",
    "        except:\n",
    "            continue\n",
    "\n",
    "    return df\n",
    "\n",
    "df_new = create_dummy_df(trip_model_data, cat_cols_lst, dummy_na=False)\n",
    "\n",
    "df_new.head()"
   ]
  },
  {
   "cell_type": "code",
   "execution_count": 34,
   "metadata": {},
   "outputs": [],
   "source": [
    "#Split into explanatory and response variables\n",
    "X = df_new[['Usertype_Subscriber', 'trip_type_Station to Station', 'day_type_Weekend']]\n",
    "y = df_new['TripSeconds']\n",
    "\n",
    "#Split into train and test\n",
    "X_train, X_test, y_train, y_test = train_test_split(X, y, test_size = .30, random_state=42) \n",
    "\n",
    "lm_model = LinearRegression(normalize=True) # Instantiate\n",
    "lm_model.fit(X_train, y_train) #Fit\n",
    "        \n",
    "#Predict using your model\n",
    "y_test_preds = lm_model.predict(X_test)\n",
    "y_train_preds = lm_model.predict(X_train)\n",
    "\n",
    "#Score using your model\n",
    "test_score = r2_score(y_test, y_test_preds)\n",
    "train_score = r2_score(y_train, y_train_preds)\n"
   ]
  },
  {
   "cell_type": "code",
   "execution_count": 35,
   "metadata": {},
   "outputs": [
    {
     "name": "stdout",
     "output_type": "stream",
     "text": [
      "The rsquared on the training data was 0.03848618512650159.  The rsquared on the test data was 0.0379572793028734.\n"
     ]
    }
   ],
   "source": [
    "print(\"The rsquared on the training data was {}.  The rsquared on the test data was {}.\".format(train_score, test_score))"
   ]
  },
  {
   "cell_type": "markdown",
   "metadata": {},
   "source": [
    "The very low r-squared value of this dataset suggests that only 3.8% of trip duration can be explained by user type, trip type, and day of the week. To be honest, this is to be expected. Most models of trip data (mostly attempting to predict trip demand, rather than trip duration), including many other factors - namely those related to weather. To be able to adequately model trip duration, it may be more ideal to have more information about the characteristics of the ride and rider (such as whether or not the trip is part of a tour group; if a trip were used for commuting to work, etc.). But unfortunately, this trip-level data was not available in the dataset."
   ]
  }
 ],
 "metadata": {
  "kernelspec": {
   "display_name": "Python 3",
   "language": "python",
   "name": "python3"
  },
  "language_info": {
   "codemirror_mode": {
    "name": "ipython",
    "version": 3
   },
   "file_extension": ".py",
   "mimetype": "text/x-python",
   "name": "python",
   "nbconvert_exporter": "python",
   "pygments_lexer": "ipython3",
   "version": "3.7.7"
  }
 },
 "nbformat": 4,
 "nbformat_minor": 4
}
